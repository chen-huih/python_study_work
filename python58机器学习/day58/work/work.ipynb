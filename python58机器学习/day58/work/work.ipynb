{
 "cells": [
  {
   "cell_type": "code",
   "execution_count": 5,
   "metadata": {
    "collapsed": true
   },
   "outputs": [],
   "source": [
    "from sklearn.feature_extraction import DictVectorizer\n",
    "from sklearn.feature_extraction.text import CountVectorizer,TfidfVectorizer\n",
    "import jieba"
   ]
  },
  {
   "cell_type": "code",
   "execution_count": 8,
   "outputs": [
    {
     "name": "stdout",
     "output_type": "stream",
     "text": [
      "<class 'numpy.ndarray'>\n",
      "[[ 0.  1.  0. 45.]\n",
      " [ 1.  0.  0. 32.]\n",
      " [ 0.  0.  1. 20.]]\n",
      "['city=上海' 'city=北京' 'city=南京' 'temperature']\n",
      "[{'city=北京': 1.0, 'temperature': 45.0}, {'city=上海': 1.0, 'temperature': 32.0}, {'city=南京': 1.0, 'temperature': 20.0}]\n"
     ]
    }
   ],
   "source": [
    "def dictvec():\n",
    "    dict = DictVectorizer(sparse=False)\n",
    "    data = dict.fit_transform([{\"city\":\"北京\",\"temperature\":45},{\"city\":\"上海\",\"temperature\":32},\n",
    "                               {\"city\":\"南京\",\"temperature\":20}])\n",
    "    print(type(data))\n",
    "    print(data)\n",
    "    print(dict.get_feature_names_out())\n",
    "    print(dict.inverse_transform(data))\n",
    "dictvec()"
   ],
   "metadata": {
    "collapsed": false,
    "pycharm": {
     "name": "#%%\n"
    }
   }
  }
 ],
 "metadata": {
  "kernelspec": {
   "display_name": "Python 3",
   "language": "python",
   "name": "python3"
  },
  "language_info": {
   "codemirror_mode": {
    "name": "ipython",
    "version": 2
   },
   "file_extension": ".py",
   "mimetype": "text/x-python",
   "name": "python",
   "nbconvert_exporter": "python",
   "pygments_lexer": "ipython2",
   "version": "2.7.6"
  }
 },
 "nbformat": 4,
 "nbformat_minor": 0
}