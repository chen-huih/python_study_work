{
 "cells": [
  {
   "cell_type": "code",
   "execution_count": 2,
   "metadata": {},
   "outputs": [
    {
     "name": "stdout",
     "output_type": "stream",
     "text": [
      "2.6.0\n",
      "sys.version_info(major=3, minor=8, micro=3, releaselevel='final', serial=0)\n",
      "matplotlib 3.3.4\n",
      "numpy 1.19.5\n",
      "pandas 1.3.4\n",
      "sklearn 0.22.1\n",
      "tensorflow 2.6.0\n",
      "keras.api._v2.keras 2.6.0\n"
     ]
    }
   ],
   "source": [
    "import matplotlib as mpl\n",
    "import matplotlib.pyplot as plt\n",
    "%matplotlib inline\n",
    "import numpy as np\n",
    "import sklearn\n",
    "import pandas as pd\n",
    "import os\n",
    "import sys\n",
    "import time\n",
    "import tensorflow as tf\n",
    "\n",
    "from tensorflow import keras\n",
    "\n",
    "print(tf.__version__)\n",
    "print(sys.version_info)\n",
    "for module in mpl, np, pd, sklearn, tf, keras:\n",
    "    print(module.__name__, module.__version__)"
   ]
  },
  {
   "cell_type": "code",
   "execution_count": 27,
   "metadata": {},
   "outputs": [
    {
     "data": {
      "text/plain": [
       "array([0, 3, 2, 2, 2, 3, 4, 2, 0, 0, 1, 1, 0, 4, 0, 1, 1, 3, 2, 0, 3, 2,\n",
       "       0, 3, 4, 1, 4, 0, 0, 3, 2, 2, 3, 2, 4, 1, 2, 2, 2, 0, 0, 4, 1, 0,\n",
       "       1, 4, 3, 2, 2, 2])"
      ]
     },
     "execution_count": 27,
     "metadata": {},
     "output_type": "execute_result"
    }
   ],
   "source": [
    "np.random.choice(5,50)"
   ]
  },
  {
   "cell_type": "code",
   "execution_count": 2,
   "metadata": {},
   "outputs": [
    {
     "name": "stdout",
     "output_type": "stream",
     "text": [
      ".. _california_housing_dataset:\n",
      "\n",
      "California Housing dataset\n",
      "--------------------------\n",
      "\n",
      "**Data Set Characteristics:**\n",
      "\n",
      "    :Number of Instances: 20640\n",
      "\n",
      "    :Number of Attributes: 8 numeric, predictive attributes and the target\n",
      "\n",
      "    :Attribute Information:\n",
      "        - MedInc        median income in block\n",
      "        - HouseAge      median house age in block\n",
      "        - AveRooms      average number of rooms\n",
      "        - AveBedrms     average number of bedrooms\n",
      "        - Population    block population\n",
      "        - AveOccup      average house occupancy\n",
      "        - Latitude      house block latitude\n",
      "        - Longitude     house block longitude\n",
      "\n",
      "    :Missing Attribute Values: None\n",
      "\n",
      "This dataset was obtained from the StatLib repository.\n",
      "http://lib.stat.cmu.edu/datasets/\n",
      "\n",
      "The target variable is the median house value for California districts.\n",
      "\n",
      "This dataset was derived from the 1990 U.S. census, using one row per census\n",
      "block group. A block group is the smallest geographical unit for which the U.S.\n",
      "Census Bureau publishes sample data (a block group typically has a population\n",
      "of 600 to 3,000 people).\n",
      "\n",
      "It can be downloaded/loaded using the\n",
      ":func:`sklearn.datasets.fetch_california_housing` function.\n",
      "\n",
      ".. topic:: References\n",
      "\n",
      "    - Pace, R. Kelley and Ronald Barry, Sparse Spatial Autoregressions,\n",
      "      Statistics and Probability Letters, 33 (1997) 291-297\n",
      "\n",
      "(20640, 8)\n",
      "(20640,)\n"
     ]
    }
   ],
   "source": [
    "from sklearn.datasets import fetch_california_housing\n",
    "\n",
    "housing = fetch_california_housing()\n",
    "print(housing.DESCR)\n",
    "print(housing.data.shape)\n",
    "print(housing.target.shape)"
   ]
  },
  {
   "cell_type": "code",
   "execution_count": 3,
   "metadata": {},
   "outputs": [
    {
     "name": "stdout",
     "output_type": "stream",
     "text": [
      "(11610, 8) (11610,)\n",
      "(3870, 8) (3870,)\n",
      "(5160, 8) (5160,)\n"
     ]
    }
   ],
   "source": [
    "from sklearn.model_selection import train_test_split\n",
    "\n",
    "x_train_all, x_test, y_train_all, y_test = train_test_split(\n",
    "    housing.data, housing.target, random_state = 7)\n",
    "x_train, x_valid, y_train, y_valid = train_test_split(\n",
    "    x_train_all, y_train_all, random_state = 11)\n",
    "print(x_train.shape, y_train.shape)\n",
    "print(x_valid.shape, y_valid.shape)\n",
    "print(x_test.shape, y_test.shape)\n"
   ]
  },
  {
   "cell_type": "code",
   "execution_count": 4,
   "metadata": {},
   "outputs": [],
   "source": [
    "from sklearn.preprocessing import StandardScaler\n",
    "\n",
    "scaler = StandardScaler()\n",
    "x_train_scaled = scaler.fit_transform(x_train)\n",
    "x_valid_scaled = scaler.transform(x_valid)\n",
    "x_test_scaled = scaler.transform(x_test)"
   ]
  },
  {
   "cell_type": "code",
   "execution_count": 6,
   "metadata": {},
   "outputs": [
    {
     "name": "stdout",
     "output_type": "stream",
     "text": [
      "tf.Tensor(9.0, shape=(), dtype=float32)\n",
      "tf.Tensor(5.0, shape=(), dtype=float32)\n",
      "tf.Tensor(5.0, shape=(), dtype=float32)\n",
      "--------------------------------------------------\n",
      "tf.Tensor(4.0, shape=(), dtype=float32)\n"
     ]
    }
   ],
   "source": [
    "# 首先我们看下metric(算子)使用,算子使用了均方误差\n",
    "metric = keras.metrics.MeanSquaredError()\n",
    "print(metric([5.], [2.]))\n",
    "print(metric([0.], [1.]))\n",
    "#具有累加功能，第1个是9，第二个是1，平均是5，(9+1)/2\n",
    "print(metric.result())\n",
    "print('-'*50)\n",
    "# #不想累加就reset，即重置为0，每次epoch计算一次平均\n",
    "metric.reset_states()  #每次epoch需要reset\n",
    "metric([1.], [3.])\n",
    "print(metric.result())"
   ]
  },
  {
   "cell_type": "code",
   "execution_count": 7,
   "metadata": {},
   "outputs": [
    {
     "name": "stdout",
     "output_type": "stream",
     "text": [
      "11610\n",
      "(8,)\n"
     ]
    }
   ],
   "source": [
    "#训练集的样本数\n",
    "print(len(x_train_scaled))\n",
    "print(x_train.shape[1:])  #特征数，shape的第一个是样本数，后面是各个特征的数"
   ]
  },
  {
   "cell_type": "code",
   "execution_count": 39,
   "metadata": {},
   "outputs": [
    {
     "data": {
      "text/plain": [
       "362.8125"
      ]
     },
     "execution_count": 39,
     "metadata": {},
     "output_type": "execute_result"
    }
   ],
   "source": [
    "11610/32  #每次训练给予的样本数"
   ]
  },
  {
   "cell_type": "code",
   "execution_count": 40,
   "metadata": {},
   "outputs": [
    {
     "name": "stdout",
     "output_type": "stream",
     "text": [
      "[[[[0 1 2]]\n",
      "\n",
      "  [[3 4 5]]]]\n"
     ]
    },
    {
     "data": {
      "text/plain": [
       "<tf.Tensor: shape=(2, 3), dtype=int64, numpy=\n",
       "array([[0, 1, 2],\n",
       "       [3, 4, 5]])>"
      ]
     },
     "execution_count": 40,
     "metadata": {},
     "output_type": "execute_result"
    }
   ],
   "source": [
    "t= np.arange(6).reshape(1, 2, 1, 3)\n",
    "print(t)\n",
    "tf.squeeze(t)  # [2, 3]  #降维，将维数为1去除"
   ]
  },
  {
   "cell_type": "code",
   "execution_count": 10,
   "metadata": {},
   "outputs": [
    {
     "name": "stdout",
     "output_type": "stream",
     "text": [
      "[854 913  17 894 892]\n",
      "[[ 1.87100283  0.27216142  0.55226273 -0.08799606 -0.55393901 -0.07631072\n",
      "   1.09455191 -1.48058947]\n",
      " [ 1.15827914 -1.16964284  0.29999114 -0.03246526  0.38963862 -0.0464411\n",
      "  -0.65974741  0.35201325]\n",
      " [-0.38966761 -1.16964284  0.18295192 -0.0098568  -1.02209868 -0.11612091\n",
      "   1.6870945  -0.71159541]\n",
      " [ 0.77484915  0.35226166  0.09019054 -0.02088154 -0.24818356 -0.12980283\n",
      "  -0.95368586  0.85136004]\n",
      " [ 0.04443525 -1.00944236 -0.04988441 -0.31892586  0.03126058  0.08654257\n",
      "  -0.71573568  1.01614448]]\n"
     ]
    },
    {
     "data": {
      "text/plain": [
       "array([4.44   , 2.871  , 1.361  , 5.00001, 1.315  ])"
      ]
     },
     "execution_count": 10,
     "metadata": {},
     "output_type": "execute_result"
    }
   ],
   "source": [
    "#随机挑选5个样本，看下特征，标签\n",
    "idx = np.random.randint(0, 1000, size=5)\n",
    "print(idx)\n",
    "print(x_train_scaled[idx])\n",
    "y_train[idx]"
   ]
  },
  {
   "cell_type": "code",
   "execution_count": 42,
   "metadata": {},
   "outputs": [
    {
     "name": "stdout",
     "output_type": "stream",
     "text": [
      "tf.Tensor(\n",
      "[[1]\n",
      " [2]\n",
      " [3]], shape=(3, 1), dtype=int32)\n"
     ]
    },
    {
     "data": {
      "text/plain": [
       "<tf.Tensor: shape=(3,), dtype=int32, numpy=array([1, 2, 3], dtype=int32)>"
      ]
     },
     "execution_count": 42,
     "metadata": {},
     "output_type": "execute_result"
    }
   ],
   "source": [
    "# squeeze的作用\n",
    "t=tf.constant([[1],[2],[3]])\n",
    "print(t)\n",
    "tf.squeeze(t,1) # 指定删除1轴"
   ]
  },
  {
   "cell_type": "code",
   "execution_count": 13,
   "metadata": {},
   "outputs": [
    {
     "name": "stdout",
     "output_type": "stream",
     "text": [
      "helloworld\r",
      "helloworld\r",
      "helloworld\r",
      "helloworld\r",
      "helloworld\r",
      "helloworld\r",
      "helloworld\r",
      "helloworld\r",
      "helloworld\r",
      "helloworld\r"
     ]
    }
   ],
   "source": [
    "for i in range(10):\n",
    "    print('helloworld',end='\\r')  # 不断地在原地覆盖地打印"
   ]
  },
  {
   "cell_type": "code",
   "execution_count": 14,
   "metadata": {},
   "outputs": [
    {
     "name": "stdout",
     "output_type": "stream",
     "text": [
      "362\n",
      "[<tf.Variable 'dense/kernel:0' shape=(8, 30) dtype=float32, numpy=\n",
      "array([[-2.33394578e-01,  3.90441447e-01, -2.02911705e-01,\n",
      "         3.72229904e-01,  4.80298698e-02,  3.34867150e-01,\n",
      "         1.95421249e-01, -2.05333576e-01, -3.51379693e-01,\n",
      "        -2.62964070e-02,  1.48886055e-01, -7.78056085e-02,\n",
      "         3.43607217e-01,  1.38993651e-01, -1.84959233e-01,\n",
      "         2.01822609e-01,  3.46111864e-01, -2.19839290e-01,\n",
      "        -2.15609804e-01, -1.11134708e-01,  1.00734472e-01,\n",
      "        -2.57328868e-01,  4.51035798e-02,  9.10943747e-03,\n",
      "         2.45002806e-02,  3.14507216e-01,  7.00456202e-02,\n",
      "         2.31188387e-01,  1.81470066e-01, -3.94834638e-01],\n",
      "       [ 2.36808449e-01,  2.89643139e-01, -1.53902173e-03,\n",
      "        -3.61920595e-02, -3.54213864e-01, -6.83941543e-02,\n",
      "         3.90978605e-01, -2.01325879e-01, -1.56647757e-01,\n",
      "        -2.84752578e-01,  3.28161985e-01, -2.03438625e-01,\n",
      "        -1.79174259e-01, -2.89041370e-01,  3.40324789e-01,\n",
      "         2.50680298e-01, -1.52389765e-01,  1.63075536e-01,\n",
      "        -4.89085913e-03, -7.97895193e-02,  1.21269196e-01,\n",
      "        -2.66586483e-01, -2.53908187e-01,  2.54339129e-01,\n",
      "         8.31173658e-02, -3.85156214e-01,  3.67994279e-01,\n",
      "         3.57714027e-01, -1.63150564e-01,  3.40525001e-01],\n",
      "       [ 1.88975483e-01, -9.84412432e-02,  5.59742153e-02,\n",
      "         3.07492703e-01, -8.21536183e-02, -3.24032426e-01,\n",
      "         1.45960838e-01,  1.98419303e-01,  1.15834922e-01,\n",
      "         1.81146711e-01,  1.88081235e-01,  3.05494666e-02,\n",
      "        -1.39438123e-01, -2.59437263e-01,  3.07504445e-01,\n",
      "        -1.19311541e-01,  3.38852137e-01, -2.12169021e-01,\n",
      "         1.59507126e-01,  9.65130329e-02, -3.73732805e-01,\n",
      "         1.83497638e-01,  1.65457219e-01, -1.96529776e-01,\n",
      "         3.33003014e-01, -4.49420512e-02,  1.34901971e-01,\n",
      "         2.12376684e-01,  2.83642262e-01,  1.63004786e-01],\n",
      "       [ 2.95037240e-01, -8.91827941e-02, -1.32279456e-01,\n",
      "        -2.09430993e-01, -1.12083554e-03, -2.55081594e-01,\n",
      "        -1.72839031e-01,  2.49783307e-01, -2.60354906e-01,\n",
      "         2.32587457e-02,  3.75154287e-01,  6.91434741e-03,\n",
      "        -1.56758130e-01, -2.89753795e-01, -2.59947836e-01,\n",
      "        -3.11694145e-01,  8.46501589e-02,  2.72150546e-01,\n",
      "        -3.80852103e-01,  2.23622829e-01, -4.45006788e-02,\n",
      "         3.92794609e-04,  1.01290196e-01, -1.90616325e-01,\n",
      "         3.86298209e-01,  2.07203060e-01, -3.90343964e-02,\n",
      "        -2.99135029e-01,  2.85750479e-01, -4.29998338e-02],\n",
      "       [ 5.07266819e-02,  3.43916208e-01,  2.56267518e-01,\n",
      "        -1.40876263e-01, -1.72157213e-01, -2.63861060e-01,\n",
      "        -3.83169949e-01,  1.68767780e-01, -3.03606093e-01,\n",
      "        -4.46245074e-02, -2.55082250e-01, -2.21880883e-01,\n",
      "         3.38707656e-01, -3.80527377e-02,  3.07682186e-01,\n",
      "        -4.95568514e-02,  2.44934559e-02,  2.33771175e-01,\n",
      "        -3.79760057e-01,  1.96745127e-01, -1.95302635e-01,\n",
      "         2.84003586e-01,  1.92176729e-01,  1.36793703e-01,\n",
      "         2.18368739e-01,  3.29300791e-01,  3.71486872e-01,\n",
      "         8.90496671e-02, -5.38310409e-02, -3.59869629e-01],\n",
      "       [-3.17187250e-01,  1.45363301e-01, -2.50512481e-01,\n",
      "        -4.74253297e-02, -2.88047463e-01, -2.80723661e-01,\n",
      "         3.53983641e-02,  2.03746647e-01,  5.14122844e-03,\n",
      "        -4.31386232e-02, -2.50537515e-01, -1.43906832e-01,\n",
      "         1.71369761e-01, -1.54046446e-01, -9.40025747e-02,\n",
      "         1.91427380e-01, -3.83556008e-01,  2.36128241e-01,\n",
      "        -1.60263717e-01, -1.43915445e-01,  1.06109351e-01,\n",
      "        -1.05197668e-01, -6.23827577e-02, -5.72725832e-02,\n",
      "         2.17003316e-01, -1.90882161e-01, -1.50352895e-01,\n",
      "         2.59899288e-01,  9.68807936e-03, -3.81858677e-01],\n",
      "       [ 1.55433983e-01, -6.31945729e-02, -3.40354830e-01,\n",
      "        -1.20212018e-01, -3.46717536e-01, -1.32345855e-01,\n",
      "        -6.14332855e-02,  1.97833270e-01, -1.64299354e-01,\n",
      "        -3.22711617e-01,  2.33997792e-01, -2.38168135e-01,\n",
      "        -1.54295415e-01, -7.94159770e-02,  1.31661087e-01,\n",
      "        -3.38582486e-01,  1.47293061e-01, -4.23721075e-02,\n",
      "        -2.08029449e-01, -2.93705881e-01,  1.69238895e-01,\n",
      "         3.72557938e-02,  1.79928869e-01,  2.62685418e-02,\n",
      "        -5.09360433e-02, -2.50107199e-01, -4.13820148e-02,\n",
      "        -2.95819670e-01,  2.11981446e-01, -1.41435683e-01],\n",
      "       [-3.96135390e-01,  6.61123097e-02,  3.67377132e-01,\n",
      "        -2.36666203e-03,  5.82399666e-02,  2.27102071e-01,\n",
      "         2.91272074e-01, -3.75221133e-01, -1.20173097e-02,\n",
      "        -5.53297997e-02, -3.56331915e-01, -2.66220272e-02,\n",
      "         1.96053386e-02,  1.00445420e-01,  3.09275895e-01,\n",
      "        -1.08661652e-02, -2.97698528e-01,  1.31283075e-01,\n",
      "        -1.59395054e-01,  2.17245072e-01,  2.55521536e-02,\n",
      "        -1.67634800e-01, -2.01990753e-01, -1.14622086e-01,\n",
      "         7.76782036e-02, -2.28861183e-01,  1.57117754e-01,\n",
      "         2.91974574e-01, -1.79553300e-01, -6.23274148e-02]], dtype=float32)>, <tf.Variable 'dense/bias:0' shape=(30,) dtype=float32, numpy=\n",
      "array([0., 0., 0., 0., 0., 0., 0., 0., 0., 0., 0., 0., 0., 0., 0., 0., 0.,\n",
      "       0., 0., 0., 0., 0., 0., 0., 0., 0., 0., 0., 0., 0.], dtype=float32)>, <tf.Variable 'dense_1/kernel:0' shape=(30, 1) dtype=float32, numpy=\n",
      "array([[ 0.14833516],\n",
      "       [-0.21324721],\n",
      "       [ 0.03696361],\n",
      "       [-0.00694269],\n",
      "       [ 0.36121655],\n",
      "       [-0.3582706 ],\n",
      "       [ 0.05313161],\n",
      "       [-0.37165743],\n",
      "       [ 0.4176268 ],\n",
      "       [ 0.23799324],\n",
      "       [-0.25589347],\n",
      "       [-0.1970014 ],\n",
      "       [ 0.43525022],\n",
      "       [-0.3169212 ],\n",
      "       [ 0.04464808],\n",
      "       [ 0.2531836 ],\n",
      "       [ 0.3480481 ],\n",
      "       [ 0.3889618 ],\n",
      "       [-0.32539308],\n",
      "       [-0.39367807],\n",
      "       [-0.0350135 ],\n",
      "       [ 0.30649364],\n",
      "       [ 0.29193562],\n",
      "       [-0.3023975 ],\n",
      "       [ 0.10660714],\n",
      "       [-0.30014548],\n",
      "       [ 0.42674446],\n",
      "       [ 0.00849757],\n",
      "       [-0.32266885],\n",
      "       [-0.3285659 ]], dtype=float32)>, <tf.Variable 'dense_1/bias:0' shape=(1,) dtype=float32, numpy=array([0.], dtype=float32)>]\n",
      "--------------------------------------------------\n",
      "Epoch 0 train mse:0.91743413\n",
      "\t valid mse:  0.5706137669092547\n",
      "Epoch 1 train mse:0.49196433\n",
      "\t valid mse:  0.4765758954118728\n",
      "Epoch 2 train mse:0.67515296\n",
      "\t valid mse:  0.48301406542769776\n",
      "Epoch 3 train mse:0.43684115\n",
      "\t valid mse:  0.4521167970222302\n",
      "Epoch 4 train mse:0.40076232\n",
      "\t valid mse:  0.4247300923727564\n",
      "Epoch 5 train mse:0.41604638\n",
      "\t valid mse:  0.4185301208590448\n",
      "Epoch 6 train mse:0.40737826\n",
      "\t valid mse:  0.41355131680575175\n",
      "Epoch 7 train mse:0.37158898\n",
      "\t valid mse:  0.40267687032385463\n",
      "Epoch 8 train mse:0.38970956\n",
      "\t valid mse:  0.40078584687762864\n",
      "Epoch 9 train mse:0.37576845\n",
      "\t valid mse:  0.39904498035226765\n",
      "Epoch 10 train mse:0.39370495\n",
      "\t valid mse:  0.39277632780202754\n",
      "Epoch 11 train mse:0.39292765\n",
      "\t valid mse:  0.39868992497592953\n",
      "Epoch 12 train mse:0.38389152\n",
      "\t valid mse:  0.3906962029323916\n",
      "Epoch 13 train mse:0.36427578\n",
      "\t valid mse:  0.3887387482333453\n",
      "Epoch 14 train mse:0.35799026\n",
      "\t valid mse:  0.3918471751393343\n",
      "Epoch 15 train mse:0.36256897\n",
      "\t valid mse:  0.3903354505819359\n",
      "Epoch 16 train mse:0.36671688\n",
      "\t valid mse:  0.3790803643713609\n",
      "Epoch 17 train mse:0.35302597\n",
      "\t valid mse:  0.3751561013356632\n",
      "Epoch 18 train mse:0.35360858\n",
      "\t valid mse:  0.37404208440738906\n",
      "Epoch 19 train mse:0.37082288\n",
      "\t valid mse:  0.37448406293059033\n",
      "Epoch 20 train mse:0.35457328\n",
      "\t valid mse:  0.3719179670425347\n",
      "Epoch 21 train mse:0.35617866\n",
      "\t valid mse:  0.3741845250041566\n",
      "Epoch 22 train mse:0.35327873\n",
      "\t valid mse:  0.3691790475512451\n",
      "Epoch 23 train mse:0.35092678\n",
      "\t valid mse:  0.36824175296231026\n",
      "Epoch 24 train mse:0.35592347\n",
      "\t valid mse:  0.3656328431371123\n",
      "Epoch 25 train mse:0.34633583\n",
      "\t valid mse:  0.3676999777806015\n",
      "Epoch 26 train mse:0.35670248\n",
      "\t valid mse:  0.3654115393041786\n",
      "Epoch 27 train mse:0.35662124\n",
      "\t valid mse:  0.3639425104341387\n",
      "Epoch 28 train mse:0.35883456\n",
      "\t valid mse:  0.36089090780246147\n",
      "Epoch 29 train mse:0.34463194\n",
      "\t valid mse:  0.36201666081329786\n",
      "Epoch 30 train mse:0.33666638\n",
      "\t valid mse:  0.3568271475338952\n",
      "Epoch 31 train mse:0.35296148\n",
      "\t valid mse:  0.35926096583481737\n",
      "Epoch 32 train mse:0.33044267\n",
      "\t valid mse:  0.3683720821953772\n",
      "Epoch 33 train mse:0.34081092\n",
      "\t valid mse:  0.35729038423261766\n",
      "Epoch 34 train mse:0.34505275\n",
      "\t valid mse:  0.35535012567188834\n",
      "Epoch 35 train mse:0.34073357\n",
      "\t valid mse:  0.3520197024541659\n"
     ]
    },
    {
     "name": "stdout",
     "output_type": "stream",
     "text": [
      "Epoch 36 train mse:0.33469582\n",
      "\t valid mse:  0.3569989720128385\n",
      "Epoch 37 train mse:0.34318417\n",
      "\t valid mse:  0.3626712218248998\n",
      "Epoch 38 train mse:0.35200134\n",
      "\t valid mse:  0.3559554156846957\n",
      "Epoch 39 train mse:0.34155953\n",
      "\t valid mse:  0.3530325844486809\n",
      "Epoch 40 train mse:0.33059064\n",
      "\t valid mse:  0.3494478273496873\n",
      "Epoch 41 train mse:0.33510765\n",
      "\t valid mse:  0.3496204292368414\n",
      "Epoch 42 train mse:0.33524448\n",
      "\t valid mse:  0.3503388826909692\n",
      "Epoch 43 train mse:0.32299617\n",
      "\t valid mse:  0.35068492162632314\n",
      "Epoch 44 train mse:0.31961608\n",
      "\t valid mse:  0.3587231824524005\n",
      "Epoch 45 train mse:0.31461377\n",
      "\t valid mse:  0.35214042838454296\n",
      "Epoch 46 train mse:0.33954784\n",
      "\t valid mse:  0.35313288104384577\n",
      "Epoch 47 train mse:0.32969585\n",
      "\t valid mse:  0.3465945578630811\n",
      "Epoch 48 train mse:0.32155624\n",
      "\t valid mse:  0.3462305711924993\n",
      "Epoch 49 train mse:0.31947774\n",
      "\t valid mse:  0.3460096748104059\n",
      "Epoch 50 train mse:0.34188542\n",
      "\t valid mse:  0.34332045085938984\n",
      "Epoch 51 train mse:0.32595626\n",
      "\t valid mse:  0.34909372260658134\n",
      "Epoch 52 train mse:0.31164375\n",
      "\t valid mse:  0.34229232896726686\n",
      "Epoch 53 train mse:0.34544545\n",
      "\t valid mse:  0.34805360045982664\n",
      "Epoch 54 train mse:0.31907222\n",
      "\t valid mse:  0.34884701427208653\n",
      "Epoch 55 train mse:0.33344287\n",
      "\t valid mse:  0.34480930535723286\n",
      "Epoch 56 train mse:0.34413772\n",
      "\t valid mse:  0.3420314739929834\n",
      "Epoch 57 train mse:0.33303815\n",
      "\t valid mse:  0.3453592544827783\n",
      "Epoch 58 train mse:0.32138267\n",
      "\t valid mse:  0.3461614186570051\n",
      "Epoch 59 train mse:0.31724608\n",
      "\t valid mse:  0.34302936083583474\n",
      "Epoch 60 train mse:0.33510277\n",
      "\t valid mse:  0.3395952535588849\n",
      "Epoch 61 train mse:0.32061523\n",
      "\t valid mse:  0.3435896779855371\n",
      "Epoch 62 train mse:0.32633025\n",
      "\t valid mse:  0.34173623957868116\n",
      "Epoch 63 train mse:0.32727638\n",
      "\t valid mse:  0.3393213637100037\n",
      "Epoch 64 train mse:0.33334336\n",
      "\t valid mse:  0.3451852027412393\n",
      "Epoch 65 train mse:0.33178866\n",
      "\t valid mse:  0.3432063132702483\n",
      "Epoch 66 train mse:0.32260713\n",
      "\t valid mse:  0.33628799359701755\n",
      "Epoch 67 train mse:0.32148716\n",
      "\t valid mse:  0.33733187086543026\n",
      "Epoch 68 train mse:0.34009203\n",
      "\t valid mse:  0.3380081924977245\n",
      "Epoch 69 train mse:0.31770656\n",
      "\t valid mse:  0.34059412773977193\n",
      "Epoch 70 train mse:0.32167232\n",
      "\t valid mse:  0.34060519344760004\n",
      "Epoch 71 train mse:0.31328747\n",
      "\t valid mse:  0.3359245918158289\n",
      "Epoch 72 train mse:0.31705458\n",
      "\t valid mse:  0.33702324842462655\n",
      "Epoch 73 train mse:0.31884372\n",
      "\t valid mse:  0.33464383127426056\n",
      "Epoch 74 train mse:0.30978284\n",
      "\t valid mse:  0.3381367146808129\n",
      "Epoch 75 train mse:0.31588385\n",
      "\t valid mse:  0.3432010820766018\n",
      "Epoch 76 train mse:0.31915927\n",
      "\t valid mse:  0.3378407439390238\n",
      "Epoch 77 train mse:0.32939345\n",
      "\t valid mse:  0.33631106434471814\n",
      "Epoch 78 train mse:0.32775614\n",
      "\t valid mse:  0.33102833797495107\n",
      "Epoch 79 train mse:0.31245065\n",
      "\t valid mse:  0.3328286388683622\n",
      "Epoch 80 train mse:0.30579597\n",
      "\t valid mse:  0.3296098858309024\n",
      "Epoch 81 train mse:0.31188138\n",
      "\t valid mse:  0.32831958253175486\n",
      "Epoch 82 train mse:0.30372142\n",
      "\t valid mse:  0.32830214885826403\n",
      "Epoch 83 train mse:0.31318298\n",
      "\t valid mse:  0.33691258403761376\n",
      "Epoch 84 train mse:0.30523953\n",
      "\t valid mse:  0.3267064110067034\n",
      "Epoch 85 train mse:0.31168017\n",
      "\t valid mse:  0.33349158037614657\n",
      "Epoch 86 train mse:0.31349194\n",
      "\t valid mse:  0.32391043941955006\n",
      "Epoch 87 train mse:0.30551064\n",
      "\t valid mse:  0.3318285659796361\n",
      "Epoch 88 train mse:0.31235284\n",
      "\t valid mse:  0.3250200731981233\n",
      "Epoch 89 train mse:0.31413114\n",
      "\t valid mse:  0.32726765866199947\n",
      "Epoch 90 train mse:0.32228346\n",
      "\t valid mse:  0.33197608099555065\n",
      "Epoch 91 train mse:0.30880505\n",
      "\t valid mse:  0.3295981071305774\n",
      "Epoch 92 train mse:0.30340022\n",
      "\t valid mse:  0.3265315404141147\n",
      "Epoch 93 train mse:0.31398448\n",
      "\t valid mse:  0.32683722635585044\n",
      "Epoch 94 train mse:0.30474836\n",
      "\t valid mse:  0.32834822686321086\n",
      "Epoch 95 train mse:0.29790205\n",
      "\t valid mse:  0.3230560065825472\n",
      "Epoch 96 train mse:0.29410532\n",
      "\t valid mse:  0.3301090213879514\n",
      "Epoch 97 train mse:0.31384478\n",
      "\t valid mse:  0.32594337942041246\n",
      "Epoch 98 train mse:0.30407754\n",
      "\t valid mse:  0.34253019998030404\n",
      "Epoch 99 train mse:0.28265458\n",
      "\t valid mse:  0.31949568394877953\n"
     ]
    }
   ],
   "source": [
    "# 1. batch 遍历训练集 metric\n",
    "#    1.1 自动求导\n",
    "# 2. epoch结束 验证集 metric\n",
    "\n",
    "epochs = 100 #多少次\n",
    "batch_size = 32 \n",
    "steps_per_epoch = len(x_train_scaled) // batch_size  #每一个epoch拿多少数据\n",
    "print(steps_per_epoch)\n",
    "optimizer = keras.optimizers.SGD()\n",
    "metric = keras.metrics.MeanSquaredError()\n",
    "\n",
    "#随机取数据,取出来32个样本\n",
    "def random_batch(x, y, batch_size=32):\n",
    "    idx = np.random.randint(0, len(x), size=batch_size)\n",
    "    return x[idx], y[idx]\n",
    "\n",
    "model = keras.models.Sequential([\n",
    "    keras.layers.Dense(30, activation='relu',\n",
    "                       input_shape=x_train.shape[1:]),\n",
    "    keras.layers.Dense(1),\n",
    "])\n",
    "print(model.variables)\n",
    "print('-'*50)\n",
    "\n",
    "#下面一部分相当于替代了fit函数\n",
    "# print(model.variables)#可以看下这个里边有什么\n",
    "# model.summary()\n",
    "for epoch in range(epochs):#每一轮epochs训练所有的样本\n",
    "    metric.reset_states()  #清空损失\n",
    "    for step in range(steps_per_epoch):\n",
    "        #随机取32个样本\n",
    "        x_batch, y_batch = random_batch(x_train_scaled, y_train,\n",
    "                                        batch_size)\n",
    "        with tf.GradientTape() as tape:\n",
    "            #得到预测值\n",
    "            y_pred = model(x_batch) #等价于model.predict\n",
    " \n",
    "            #删减了值为1的维度,二阶张量，变为一阶张量\n",
    "            y_pred = tf.squeeze(y_pred, 1)\n",
    "            #计算损失\n",
    "            loss = keras.losses.mean_squared_error(y_batch, y_pred)\n",
    "            #计算均方误差\n",
    "            metric(y_batch, y_pred)\n",
    "        #求梯度\n",
    "        grads = tape.gradient(loss, model.variables)\n",
    "        #梯度和变量绑定\n",
    "        grads_and_vars = zip(grads, model.variables)\n",
    "        #更新，通过grads，去更新模型的model.variables，也就是更新了w,b\n",
    "        optimizer.apply_gradients(grads_and_vars)\n",
    "        #打印，不要在循环内加print，影响\\r\n",
    "        p=\"Epoch \"+str(epoch)+\" train mse:\"+str(metric.result().numpy())\n",
    "        print(p, end='\\r')\n",
    "    print('') #打换行的目的是为了新起一行显示\n",
    "    #搞了一波训练后，认为模型可以了，去验证集验证\n",
    "    y_valid_pred = model(x_valid_scaled)\n",
    "    # 删减了值为1的维度\n",
    "#     print(y_valid_pred.shape)\n",
    "    y_valid_pred = tf.squeeze(y_valid_pred, 1)\n",
    "#     print(y_valid_pred.shape)\n",
    "    valid_loss = keras.losses.mean_squared_error(y_valid_pred, y_valid)\n",
    "    print(\"\\t\", \"valid mse: \", valid_loss.numpy())\n",
    "        \n"
   ]
  },
  {
   "cell_type": "code",
   "execution_count": null,
   "metadata": {},
   "outputs": [],
   "source": []
  }
 ],
 "metadata": {
  "kernelspec": {
   "display_name": "Python 3 (ipykernel)",
   "language": "python",
   "name": "python3"
  },
  "language_info": {
   "codemirror_mode": {
    "name": "ipython",
    "version": 3
   },
   "file_extension": ".py",
   "mimetype": "text/x-python",
   "name": "python",
   "nbconvert_exporter": "python",
   "pygments_lexer": "ipython3",
   "version": "3.8.3"
  }
 },
 "nbformat": 4,
 "nbformat_minor": 4
}
